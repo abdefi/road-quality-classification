{
 "metadata": {
  "kernelspec": {
   "name": "python3",
   "display_name": "Python 3 (ipykernel)",
   "language": "python"
  },
  "language_info": {
   "codemirror_mode": {
    "name": "python",
    "version": 3
   },
   "file_extension": ".py",
   "mimetype": "text/x-python",
   "name": "python",
   "nbconvert_exporter": "python",
   "pygments_lexer": "ipython3",
   "version": "3.8"
  }
 },
 "nbformat_minor": 5,
 "nbformat": 4,
 "cells": [
  {
   "id": "cfc39707",
   "cell_type": "markdown",
   "source": [
    "# Jupyter Notebook for `filter_unwanted_images_saturation.py`\n",
    "This notebook explains and executes the logic of the `filter_unwanted_images_saturation.py` script. Each section will describe the purpose of the code and walk through the implementation."
   ],
   "metadata": {}
  },
  {
   "id": "35e84911",
   "cell_type": "markdown",
   "source": "## Imports and Setup\n",
   "metadata": {}
  },
  {
   "metadata": {},
   "cell_type": "markdown",
   "source": "This are libraries for file operations (`os`, `shutil`), type annotations (`typing`), numerical computations (`numpy`), web app creation (`streamlit`), and image processing (`skimage`).",
   "id": "99ef57b0739f6eaa"
  },
  {
   "metadata": {},
   "cell_type": "code",
   "source": [
    "import os\n",
    "import shutil\n",
    "from typing import Any, Dict, List, Tuple, Optional\n",
    "import numpy as np\n",
    "import streamlit as st\n",
    "from skimage import color, io\n",
    "from skimage.util import img_as_float, img_as_ubyte"
   ],
   "id": "d8da665c",
   "outputs": [],
   "execution_count": null
  },
  {
   "metadata": {},
   "cell_type": "markdown",
   "source": "## `clear_Folder` Function",
   "id": "90c4c58e880c05b"
  },
  {
   "metadata": {},
   "cell_type": "markdown",
   "source": [
    "This function deletes a folder if it exists and then recreates it. This is used to clear\n",
    "the output folders before re-running the image processing to ensure that only the latest results are kept."
   ],
   "id": "11a2def9268dce5c"
  },
  {
   "metadata": {},
   "cell_type": "code",
   "source": [
    "def clear_folder(folder: str) -> None:\n",
    "    \"\"\"\n",
    "    Delete and recreate a folder.\n",
    "\n",
    "    :param folder: Path to the folder.\n",
    "    :return:\n",
    "    \"\"\"\n",
    "    if os.path.exists(folder):\n",
    "        shutil.rmtree(folder)\n",
    "    os.makedirs(folder, exist_ok=True)"
   ],
   "id": "770d926547d59188",
   "outputs": [],
   "execution_count": null
  },
  {
   "metadata": {},
   "cell_type": "markdown",
   "source": "## `get_center_crop` Function",
   "id": "f1e72d960f6f8514"
  },
  {
   "metadata": {},
   "cell_type": "markdown",
   "source": "The `get_center_crop` function extracts a square crop from the center of an image for a given size. It calculates the center coordinates and ensures the crop is valid, returning `None` if not.",
   "id": "348fec4d0103ef96"
  },
  {
   "metadata": {},
   "cell_type": "code",
   "source": [
    "def get_center_crop(img: np.ndarray, crop_size: int) -> Optional[np.ndarray]:\n",
    "    \"\"\"\n",
    "    Get a square crop from the center of the image.\n",
    "\n",
    "    :param img: Input image as numpy array.\n",
    "    :param crop_size: Size of the square crop.\n",
    "    :return: Cropped image as numpy array or None if invalid.\n",
    "    \"\"\"\n",
    "    h, w = img.shape[:2]\n",
    "    cx, cy = w // 2, h // 2\n",
    "    half = crop_size // 2\n",
    "    x1, x2 = max(0, cx - half), min(w, cx + half)\n",
    "    y1, y2 = max(0, cy - half), min(h, cy + half)\n",
    "    if x2 <= x1 or y2 <= y1:\n",
    "        return None\n",
    "    return img[y1:y2, x1:x2, :3]"
   ],
   "id": "f0da095ce484b2d4",
   "outputs": [],
   "execution_count": null
  },
  {
   "metadata": {},
   "cell_type": "markdown",
   "source": "## `analyze_crop` Funktion",
   "id": "9babdee145b542db"
  },
  {
   "metadata": {},
   "cell_type": "markdown",
   "source": "The `analyze_crop` function processes a cropped image to compute its mean saturation, mean brightness, and maximum brightness. It converts the image to HSV color space and extracts the relevant metrics.",
   "id": "5b944ff2a2a0242d"
  },
  {
   "metadata": {},
   "cell_type": "code",
   "source": [
    "def analyze_crop(crop: np.ndarray) -> Tuple[float, float, float]:\n",
    "    \"\"\"\n",
    "    Calculate mean saturation, mean brightness, and max brightness for a crop.\n",
    "\n",
    "    :param crop: Cropped image as numpy array.\n",
    "    :return: Tuple of (mean_saturation, mean_brightness, max_brightness).\n",
    "    \"\"\"\n",
    "    img_float = img_as_float(crop)\n",
    "    hsv = color.rgb2hsv(img_float)\n",
    "    saturation = hsv[:, :, 1]\n",
    "    brightness = hsv[:, :, 2]\n",
    "    mean_saturation = np.mean(saturation) * 255\n",
    "    mean_brightness = np.mean(brightness) * 255\n",
    "    max_brightness = np.max(brightness) * 255\n",
    "    return mean_saturation, mean_brightness, max_brightness"
   ],
   "id": "ff6710ff6500a3a6",
   "outputs": [],
   "execution_count": null
  },
  {
   "metadata": {},
   "cell_type": "markdown",
   "source": "## `is_non_street_image` Function",
   "id": "a128c7b5937d7863"
  },
  {
   "metadata": {},
   "cell_type": "markdown",
   "source": "This function determines if an image is considered \"non-street\" based on its saturation and brightness values. It checks against predefined thresholds and returns a boolean along with a reason for the classification.",
   "id": "63b914558a67bc20"
  },
  {
   "metadata": {},
   "cell_type": "code",
   "source": [
    "def is_non_street_image(\n",
    "        mean_saturation: float, mean_brightness: float, max_brightness: float,\n",
    "        sat_thresh: int, v_min: int, v_max: int, max_bright_px_thresh: int\n",
    ") -> Tuple[bool, str]:\n",
    "    \"\"\"\n",
    "    Decide if an image is 'non-street' and return the reason.\n",
    "\n",
    "    :param mean_saturation: Mean saturation value.\n",
    "    :param mean_brightness: Mean brightness value.\n",
    "    :param max_brightness: Max brightness value.\n",
    "    :param sat_thresh: Saturation threshold.\n",
    "    :param v_min: Minimum brightness.\n",
    "    :param v_max: Maximum brightness.\n",
    "    :param max_bright_px_thresh: Max brightness pixel threshold.\n",
    "    :return: Tuple (is_non_street, reason).\n",
    "    \"\"\"\n",
    "    reasons = []\n",
    "    if mean_saturation >= sat_thresh:\n",
    "        reasons.append(f\"Mean Saturation ({mean_saturation:.1f}) >= {sat_thresh}\")\n",
    "    if mean_brightness <= v_min:\n",
    "        reasons.append(f\"Mean Brightness ({mean_brightness:.1f}) <= {v_min}\")\n",
    "    if mean_brightness >= v_max:\n",
    "        reasons.append(f\"Mean Brightness ({mean_brightness:.1f}) >= {v_max}\")\n",
    "    if max_brightness < max_bright_px_thresh:\n",
    "        reasons.append(f\"Max Brightness ({max_brightness:.1f}) < {max_bright_px_thresh}\")\n",
    "    return len(reasons) > 0, \"; \".join(reasons)"
   ],
   "id": "bc4de87635b1c8a2",
   "outputs": [],
   "execution_count": null
  },
  {
   "metadata": {},
   "cell_type": "markdown",
   "source": "## `process_image` Function",
   "id": "743716b377dfce38"
  },
  {
   "metadata": {},
   "cell_type": "markdown",
   "source": "To process images, this function iterates through all images in the input folder, applies the cropping and analysis functions, and sorts them into \"good\" or \"non-street\" categories based on the analysis results. It saves the images to their respective folders and returns a summary of non-street images and the count of good images.",
   "id": "96cc1feeb835974f"
  },
  {
   "metadata": {},
   "cell_type": "code",
   "source": [
    "def process_images(\n",
    "        input_fldr: str, good_imgs_fldr: str, non_street_prev_fldr: str,\n",
    "        sat_thresh: int, v_min: int, v_max: int, max_bright_px_thresh: int, c_size: int\n",
    ") -> Tuple[List[Dict[str, Any]], int]:\n",
    "    \"\"\"\n",
    "    Analyze all images in the input folder and sort them into 'good' or 'non-street'.\n",
    "\n",
    "    :param input_fldr: Input folder path.\n",
    "    :param good_imgs_fldr: Output folder for good images.\n",
    "    :param non_street_prev_fldr: Output folder for non-street images.\n",
    "    :param sat_thresh: Saturation threshold.\n",
    "    :param v_min: Minimum brightness.\n",
    "    :param v_max: Maximum brightness.\n",
    "    :param max_bright_px_thresh: Max brightness pixel threshold.\n",
    "    :param c_size: Crop size.\n",
    "    :return: Tuple (list of non-street images with reasons, count of good images).\n",
    "    \"\"\"\n",
    "    clear_folder(good_imgs_fldr)\n",
    "    clear_folder(non_street_prev_fldr)\n",
    "    non_street_images_data = []\n",
    "    good_image_count = 0\n",
    "\n",
    "    for filename in os.listdir(input_fldr):\n",
    "        if not filename.lower().endswith((\".jpg\", \".jpeg\", \".png\")):\n",
    "            continue\n",
    "        path = os.path.join(input_fldr, filename)\n",
    "        img = io.imread(path)\n",
    "        if img is None or img.ndim != 3 or img.shape[2] < 3:\n",
    "            continue\n",
    "        crop = get_center_crop(img, c_size)\n",
    "        if crop is None:\n",
    "            st.warning(f\"Skipping {filename}: Crop dimensions are invalid (0 size). Consider larger images or smaller crop_size.\")\n",
    "            continue\n",
    "        mean_saturation, mean_brightness, max_brightness = analyze_crop(crop)\n",
    "        is_non_street, reason = is_non_street_image(\n",
    "            mean_saturation, mean_brightness, max_brightness,\n",
    "            sat_thresh, v_min, v_max, max_bright_px_thresh\n",
    "        )\n",
    "        if is_non_street:\n",
    "            dest_path = os.path.join(non_street_prev_fldr, filename)\n",
    "            io.imsave(dest_path, img_as_ubyte(img))\n",
    "            non_street_images_data.append({\"filename\": filename, \"reason\": reason})\n",
    "        else:\n",
    "            dest_path = os.path.join(good_imgs_fldr, filename)\n",
    "            io.imsave(dest_path, img_as_ubyte(img))\n",
    "            good_image_count += 1\n",
    "    return non_street_images_data, good_image_count"
   ],
   "id": "e2ccf8a2aba16e19",
   "outputs": [],
   "execution_count": null
  },
  {
   "metadata": {},
   "cell_type": "markdown",
   "source": "## `main` Function",
   "id": "2f01c72731933e1e"
  },
  {
   "metadata": {},
   "cell_type": "markdown",
   "source": [
    "The `main` function sets up the Streamlit UI, handles user input for filter parameters, and processes images based on those parameters. It displays the results and allows users to adjust the filters dynamically. The use of UI allows for an interactive experience where users can see the effects of their adjustments in real-time. Unter each image in the overview of the `non-street` images, the user can see the reasons why an image was classified as such, which helps to tweak the parameters for better results.\n",
    "After adjusting the parameters, the process is automatically re-run, and the results are updated accordingly. The user can see the number of images classified as \"good\" and those identified as \"non-street\" based on the current parameters. When happy with the results, the filtered images can be found in the designated output folder.\n"
   ],
   "id": "2196a4afa475fc55"
  },
  {
   "metadata": {},
   "cell_type": "code",
   "source": [
    "def main() -> None:\n",
    "    \"\"\"\n",
    "    Main function for the Streamlit UI and image filtering logic.\n",
    "\n",
    "    :return:\n",
    "    \"\"\"\n",
    "    input_folder = \"././out/images\"\n",
    "    good_images_folder = \"./images/good_images\"\n",
    "    non_street_preview_folder = \"./images/temp_non_street_images\"\n",
    "    os.makedirs(good_images_folder, exist_ok=True)\n",
    "    os.makedirs(non_street_preview_folder, exist_ok=True)\n",
    "\n",
    "    st.set_page_config(layout=\"wide\", page_title=\"Image Filter Tuner\")\n",
    "    st.title(\"Image Filter Parameter Tuner\")\n",
    "    st.write(\"Adjust the sliders to fine-tune the criteria for identifying 'non-street' images.\")\n",
    "\n",
    "    st.sidebar.header(\"Filter Parameters\")\n",
    "    sat_threshold = st.sidebar.slider(\n",
    "        \"Saturation Threshold\", min_value=0, max_value=255, value=90, step=1,\n",
    "        help=\"Images with mean saturation >= this value are considered 'non-street'.\"\n",
    "    )\n",
    "    val_min = st.sidebar.slider(\n",
    "        \"Min Brightness (VAL_MIN)\", min_value=0, max_value=255, value=60, step=1,\n",
    "        help=\"Images with mean brightness <= this value are considered 'non-street'.\"\n",
    "    )\n",
    "    val_max = st.sidebar.slider(\n",
    "        \"Max Brightness (VAL_MAX)\", min_value=0, max_value=255, value=200, step=1,\n",
    "        help=\"Images with mean brightness >= this value are considered 'non-street'.\"\n",
    "    )\n",
    "    max_bright_pixel_threshold = st.sidebar.slider(\n",
    "        \"Max Brightness Pixel Threshold\", min_value=0, max_value=255, value=25, step=1,\n",
    "        help=\"Images where the brightest pixel in the crop is < this value are considered 'non-street'.\"\n",
    "    )\n",
    "    crop_size = st.sidebar.slider(\n",
    "        \"Crop Size (pixels)\", min_value=0, max_value=300, value=50, step=1,\n",
    "        help=\"Size of the central square crop (e.g., 100 means 100x100 pixels).\"\n",
    "    )\n",
    "    st.sidebar.info(\"**Note:** Adjusting these sliders will re-run the analysis and update the results.\")\n",
    "\n",
    "    with st.spinner(\"Analyzing images...\"):\n",
    "        filtered_images_data, good_img_count = process_images(\n",
    "            input_folder, good_images_folder, non_street_preview_folder,\n",
    "            sat_threshold, val_min, val_max, max_bright_pixel_threshold, crop_size\n",
    "        )\n",
    "\n",
    "    st.header(\"Filtering Results\")\n",
    "    st.success(f\"**{good_img_count}** images have been classified as 'good' and saved to `{good_images_folder}`.\")\n",
    "    st.write(\"---\")\n",
    "\n",
    "    st.subheader(\"Filtered 'Non-Street' Images Preview\")\n",
    "    if filtered_images_data:\n",
    "        st.info(f\"The following {len(filtered_images_data)} images were identified as 'non-street' based on the current parameters. They are temporarily saved in the `{non_street_preview_folder}` folder for your review.\")\n",
    "        cols = st.columns(5)\n",
    "        for i, img_data in enumerate(filtered_images_data):\n",
    "            col = cols[i % 5]\n",
    "            with col:\n",
    "                st.image(os.path.join(non_street_preview_folder, img_data[\"filename\"]), caption=img_data[\"filename\"], use_column_width=True)\n",
    "                st.caption(f\"Reason: {img_data['reason']}\")\n",
    "    else:\n",
    "        st.info(\"No images found matching the current 'non-street' criteria. All images are considered 'good' with the current parameters.\")\n",
    "\n",
    "    st.markdown(\"---\")\n",
    "    st.write(\"Once you're satisfied with the parameters, the 'good' images will be in the designated folder.\")\n",
    "    st.write(f\"**Current Parameters:** `SAT_THRESHOLD={sat_threshold}`, `VAL_MIN={val_min}`, `VAL_MAX={val_max}`, `MAX_BRIGHT_PIXEL_THRESHOLD={max_bright_pixel_threshold}`, `CROP_SIZE={crop_size}`\")\n",
    "\n",
    "if __name__ == \"__main__\":\n",
    "    main()"
   ],
   "id": "5be78372f3233925",
   "outputs": [],
   "execution_count": null
  }
 ]
}
